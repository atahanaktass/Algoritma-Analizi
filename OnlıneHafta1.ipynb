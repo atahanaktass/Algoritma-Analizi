{
 "cells": [
  {
   "cell_type": "code",
   "execution_count": 2,
   "metadata": {},
   "outputs": [],
   "source": [
    "import random"
   ]
  },
  {
   "cell_type": "code",
   "execution_count": 3,
   "metadata": {},
   "outputs": [
    {
     "data": {
      "text/plain": [
       "0.8233942078614952"
      ]
     },
     "execution_count": 3,
     "metadata": {},
     "output_type": "execute_result"
    }
   ],
   "source": [
    "random.random()"
   ]
  },
  {
   "cell_type": "code",
   "execution_count": 4,
   "metadata": {},
   "outputs": [
    {
     "data": {
      "text/plain": [
       "37"
      ]
     },
     "execution_count": 4,
     "metadata": {},
     "output_type": "execute_result"
    }
   ],
   "source": [
    "s=random.randint(1,100)\n",
    "s"
   ]
  },
  {
   "cell_type": "code",
   "execution_count": 7,
   "metadata": {},
   "outputs": [
    {
     "data": {
      "text/plain": [
       "[-4, -1, -1, -4, -5, 2, -5, 4, 2, 5]"
      ]
     },
     "execution_count": 7,
     "metadata": {},
     "output_type": "execute_result"
    }
   ],
   "source": [
    "def get_n_random_numbers(n=10, min_=-5, max_=5):\n",
    "    numbers=[]\n",
    "    for i in range(n):\n",
    "        numbers.append(random.randint(min_, max_))\n",
    "    return numbers\n",
    "get_n_random_numbers()\n",
    "\n",
    "#Önemli"
   ]
  },
  {
   "cell_type": "code",
   "execution_count": 9,
   "metadata": {},
   "outputs": [
    {
     "data": {
      "text/plain": [
       "[4, -3, 0, -4, -1, 4, 2, 2, -3, -3, 4, 0, -3, 1, -3]"
      ]
     },
     "execution_count": 9,
     "metadata": {},
     "output_type": "execute_result"
    }
   ],
   "source": [
    "my_list=get_n_random_numbers(15,-4,4)\n",
    "my_list"
   ]
  },
  {
   "cell_type": "code",
   "execution_count": 13,
   "metadata": {
    "scrolled": true
   },
   "outputs": [
    {
     "data": {
      "text/plain": [
       "[4, -3, 0, -4, -1, 4, 2, 2, -3, -3, 4, 0, -3, 1, -3]"
      ]
     },
     "execution_count": 13,
     "metadata": {},
     "output_type": "execute_result"
    }
   ],
   "source": [
    "my_list"
   ]
  },
  {
   "cell_type": "code",
   "execution_count": 14,
   "metadata": {},
   "outputs": [
    {
     "data": {
      "text/plain": [
       "[-4, -3, -3, -3, -3, -3, -1, 0, 0, 1, 2, 2, 4, 4, 4]"
      ]
     },
     "execution_count": 14,
     "metadata": {},
     "output_type": "execute_result"
    }
   ],
   "source": [
    "sorted(my_list)"
   ]
  },
  {
   "cell_type": "code",
   "execution_count": 19,
   "metadata": {},
   "outputs": [],
   "source": [
    "def my_frequency_with_dict(list):\n",
    "    frequency_dict={} #dict()={}\n",
    "    for item in list:\n",
    "        if (item in frequency_dict):\n",
    "            frequency_dict[item]=frequency_dict[item]+1\n",
    "        else:\n",
    "            frequency_dict[item]=1\n",
    "    return frequency_dict"
   ]
  },
  {
   "cell_type": "code",
   "execution_count": 21,
   "metadata": {},
   "outputs": [
    {
     "data": {
      "text/plain": [
       "{4: 3, -3: 5, 0: 2, -4: 1, -1: 1, 2: 2, 1: 1}"
      ]
     },
     "execution_count": 21,
     "metadata": {},
     "output_type": "execute_result"
    }
   ],
   "source": [
    "my_frequency_with_dict(my_list)"
   ]
  },
  {
   "cell_type": "code",
   "execution_count": 23,
   "metadata": {},
   "outputs": [],
   "source": [
    "def my_frequency_with_list_of_tuples(list_1):\n",
    "    frequency_list=[]\n",
    "    for i in range(len(list_1)):\n",
    "        s=False\n",
    "        for j in range(len(frequency_list)):\n",
    "            if (list_1[i]==frequency_list[j][0]):\n",
    "                frequency_list[j][1]=frequency_list[j][1]+1\n",
    "                s=True\n",
    "        if(s==False):\n",
    "            frequency_list.append([list_1[i],1])\n",
    "    return frequency_list\n",
    "#Önemli"
   ]
  },
  {
   "cell_type": "code",
   "execution_count": 25,
   "metadata": {},
   "outputs": [
    {
     "data": {
      "text/plain": [
       "({2: 5, 3: 3, 5: 2, 8: 2, 4: 6}, [[2, 5], [3, 3], [5, 2], [8, 2], [4, 6]])"
      ]
     },
     "execution_count": 25,
     "metadata": {},
     "output_type": "execute_result"
    }
   ],
   "source": [
    "my_list=[2,3,2,5,8,2,4,3,3,2,8,5,2,4,4,4,4,4]\n",
    "result_1=my_frequency_with_dict(my_list)\n",
    "result_2=my_frequency_with_list_of_tuples(my_list)\n",
    "result_1,result_2"
   ]
  },
  {
   "cell_type": "code",
   "execution_count": 31,
   "metadata": {},
   "outputs": [
    {
     "data": {
      "text/plain": [
       "{-1: 2, 0: 1, 1: 1, 2: 1}"
      ]
     },
     "execution_count": 31,
     "metadata": {},
     "output_type": "execute_result"
    }
   ],
   "source": [
    "my_list_1=get_n_random_numbers(5,-2,2)\n",
    "my_hist_d=my_frequency_with_dict(my_list_1)\n",
    "my_hist_d"
   ]
  },
  {
   "cell_type": "code",
   "execution_count": 32,
   "metadata": {},
   "outputs": [
    {
     "data": {
      "text/plain": [
       "[[-1, 2], [0, 1], [1, 1], [2, 1]]"
      ]
     },
     "execution_count": 32,
     "metadata": {},
     "output_type": "execute_result"
    }
   ],
   "source": [
    "my_hist_1=my_frequency_with_list_of_tuples(my_list_1)\n",
    "my_hist_1"
   ]
  },
  {
   "cell_type": "code",
   "execution_count": 34,
   "metadata": {},
   "outputs": [
    {
     "name": "stdout",
     "output_type": "stream",
     "text": [
      "-1 2\n",
      "0 1\n",
      "1 1\n",
      "2 1\n"
     ]
    },
    {
     "data": {
      "text/plain": [
       "(-1, 2)"
      ]
     },
     "execution_count": 34,
     "metadata": {},
     "output_type": "execute_result"
    }
   ],
   "source": [
    "frequency_max=1\n",
    "mode=-1\n",
    "for key in my_hist_d.keys():\n",
    "    print(key,my_hist_d[key])\n",
    "    if my_hist_d[key]>frequency_max:\n",
    "        frequency_max=my_hist_d[key]\n",
    "        mode=key\n",
    "mode,frequency_max"
   ]
  },
  {
   "cell_type": "code",
   "execution_count": 37,
   "metadata": {},
   "outputs": [],
   "source": [
    "def my_mode_with_dict(my_hist_d):\n",
    "    frequency_max=1\n",
    "    mode=-1\n",
    "    for key in my_hist_d.keys():\n",
    "        #print(key,my_hist_d[key])\n",
    "        if my_hist_d[key]>frequency_max:\n",
    "            frequency_max=my_hist_d[key]\n",
    "            mode=key\n",
    "    return mode,frequency_max"
   ]
  },
  {
   "cell_type": "code",
   "execution_count": 38,
   "metadata": {},
   "outputs": [
    {
     "data": {
      "text/plain": [
       "(-1, 2)"
      ]
     },
     "execution_count": 38,
     "metadata": {},
     "output_type": "execute_result"
    }
   ],
   "source": [
    "my_mode_with_dict(my_hist_d)"
   ]
  },
  {
   "cell_type": "code",
   "execution_count": 39,
   "metadata": {},
   "outputs": [
    {
     "data": {
      "text/plain": [
       "(-3, 4)"
      ]
     },
     "execution_count": 39,
     "metadata": {},
     "output_type": "execute_result"
    }
   ],
   "source": [
    "my_list_100=get_n_random_numbers(100,-40,40)\n",
    "my_hist_1=my_frequency_with_dict(my_list_100)\n",
    "my_mode_with_dict(my_hist_1)"
   ]
  },
  {
   "cell_type": "code",
   "execution_count": 40,
   "metadata": {},
   "outputs": [
    {
     "data": {
      "text/plain": [
       "[[0, 1], [-2, 1], [5, 2], [4, 2], [1, 1], [-5, 1], [-3, 1], [-4, 1]]"
      ]
     },
     "execution_count": 40,
     "metadata": {},
     "output_type": "execute_result"
    }
   ],
   "source": [
    "my_list_1=get_n_random_numbers(10)\n",
    "my_hist_list=my_frequency_with_list_of_tuples(my_list_1)\n",
    "my_hist_list"
   ]
  },
  {
   "cell_type": "code",
   "execution_count": 42,
   "metadata": {},
   "outputs": [
    {
     "name": "stdout",
     "output_type": "stream",
     "text": [
      "0 1\n",
      "-2 1\n",
      "5 2\n",
      "4 2\n",
      "1 1\n",
      "-5 1\n",
      "-3 1\n",
      "-4 1\n"
     ]
    },
    {
     "data": {
      "text/plain": [
       "(5, 2)"
      ]
     },
     "execution_count": 42,
     "metadata": {},
     "output_type": "execute_result"
    }
   ],
   "source": [
    "frequency_max=-1\n",
    "mode=-1\n",
    "for item,frequency in my_hist_list:\n",
    "    print(item,frequency)\n",
    "    if frequency>frequency_max:\n",
    "        frequency_max=frequency\n",
    "        mode=item\n",
    "mode,frequency_max"
   ]
  },
  {
   "cell_type": "code",
   "execution_count": 43,
   "metadata": {},
   "outputs": [],
   "source": [
    "def my_mode_with_list(my_hist_list):\n",
    "    frequency_max=-1\n",
    "    mode=-1\n",
    "    for item,frequency in my_hist_list:\n",
    "        print(item,frequency)\n",
    "        if frequency>frequency_max:\n",
    "            frequency_max=frequency\n",
    "            mode=item\n",
    "    return mode,frequency_max"
   ]
  },
  {
   "cell_type": "code",
   "execution_count": 44,
   "metadata": {},
   "outputs": [
    {
     "name": "stdout",
     "output_type": "stream",
     "text": [
      "0 1\n",
      "-2 1\n",
      "5 2\n",
      "4 2\n",
      "1 1\n",
      "-5 1\n",
      "-3 1\n",
      "-4 1\n"
     ]
    },
    {
     "data": {
      "text/plain": [
       "(5, 2)"
      ]
     },
     "execution_count": 44,
     "metadata": {},
     "output_type": "execute_result"
    }
   ],
   "source": [
    "my_mode_with_list(my_hist_list)"
   ]
  },
  {
   "cell_type": "code",
   "execution_count": 45,
   "metadata": {},
   "outputs": [
    {
     "name": "stdout",
     "output_type": "stream",
     "text": [
      "4 3\n",
      "-2 3\n",
      "0 6\n",
      "3 2\n",
      "2 1\n",
      "-3 2\n",
      "-4 2\n",
      "1 1\n"
     ]
    },
    {
     "data": {
      "text/plain": [
       "(0, 6)"
      ]
     },
     "execution_count": 45,
     "metadata": {},
     "output_type": "execute_result"
    }
   ],
   "source": [
    "my_list_100=get_n_random_numbers(20,-4,4)\n",
    "my_hist_1=my_frequency_with_list_of_tuples(my_list_100)\n",
    "my_mode_with_list(my_hist_1)"
   ]
  },
  {
   "cell_type": "code",
   "execution_count": 46,
   "metadata": {},
   "outputs": [
    {
     "data": {
      "text/plain": [
       "[4, -2, 0, 3, 0, -2, 2, -3, 0, 3, 0, -3, 0, 4, -4, 1, 0, 4, -2, -4]"
      ]
     },
     "execution_count": 46,
     "metadata": {},
     "output_type": "execute_result"
    }
   ],
   "source": [
    "my_list_100"
   ]
  },
  {
   "cell_type": "code",
   "execution_count": 54,
   "metadata": {},
   "outputs": [],
   "source": [
    "def my_linear_search(my_list,item_search):\n",
    "    found=(-1,-1)  \n",
    "    n=len(my_list)\n",
    "    for indis in range(n):\n",
    "        if my_list[indis]==item_search:\n",
    "            found=(my_list[indis],indis)\n",
    "    return found\n",
    "#Önemli"
   ]
  },
  {
   "cell_type": "code",
   "execution_count": 55,
   "metadata": {},
   "outputs": [
    {
     "data": {
      "text/plain": [
       "[2, 4, 4, -2, -4, -2, 1, -1, -3, 3]"
      ]
     },
     "execution_count": 55,
     "metadata": {},
     "output_type": "execute_result"
    }
   ],
   "source": [
    "my_list=get_n_random_numbers(10,-5,5)\n",
    "my_list"
   ]
  },
  {
   "cell_type": "code",
   "execution_count": 58,
   "metadata": {},
   "outputs": [
    {
     "data": {
      "text/plain": [
       "(1, 6)"
      ]
     },
     "execution_count": 58,
     "metadata": {},
     "output_type": "execute_result"
    }
   ],
   "source": [
    "my_linear_search(my_list,1)"
   ]
  },
  {
   "cell_type": "code",
   "execution_count": 59,
   "metadata": {},
   "outputs": [
    {
     "data": {
      "text/plain": [
       "[-27, 17, -27, 34, 32, 37, -43, 17, 36, -15]"
      ]
     },
     "execution_count": 59,
     "metadata": {},
     "output_type": "execute_result"
    }
   ],
   "source": [
    "my_list=get_n_random_numbers(10,-50,50)\n",
    "my_list"
   ]
  },
  {
   "cell_type": "code",
   "execution_count": 61,
   "metadata": {},
   "outputs": [
    {
     "data": {
      "text/plain": [
       "6.1"
      ]
     },
     "execution_count": 61,
     "metadata": {},
     "output_type": "execute_result"
    }
   ],
   "source": [
    "s,t=0,0\n",
    "for item in my_list:\n",
    "    s=s+1\n",
    "    t=t+item\n",
    "mean_=t/s\n",
    "mean_"
   ]
  },
  {
   "cell_type": "code",
   "execution_count": 62,
   "metadata": {},
   "outputs": [],
   "source": [
    "def my_mean(my_list):\n",
    "    s,t=0,0\n",
    "    for item in my_list:\n",
    "        s=s+1\n",
    "        t=t+item\n",
    "    mean_=t/s\n",
    "    return mean_ "
   ]
  },
  {
   "cell_type": "code",
   "execution_count": 63,
   "metadata": {},
   "outputs": [
    {
     "name": "stdout",
     "output_type": "stream",
     "text": [
      "[4, 0, 4, -2]\n"
     ]
    },
    {
     "data": {
      "text/plain": [
       "1.5"
      ]
     },
     "execution_count": 63,
     "metadata": {},
     "output_type": "execute_result"
    }
   ],
   "source": [
    "my_list=get_n_random_numbers(4,-5,5)\n",
    "print(my_list)\n",
    "my_mean(my_list)"
   ]
  },
  {
   "cell_type": "code",
   "execution_count": 64,
   "metadata": {},
   "outputs": [
    {
     "data": {
      "text/plain": [
       "[4, 0, 4, -2]"
      ]
     },
     "execution_count": 64,
     "metadata": {},
     "output_type": "execute_result"
    }
   ],
   "source": [
    "my_list"
   ]
  },
  {
   "cell_type": "code",
   "execution_count": 65,
   "metadata": {},
   "outputs": [
    {
     "name": "stdout",
     "output_type": "stream",
     "text": [
      "[4, 0, 4, -2]\n",
      "[-2, 0, 4, 4]\n"
     ]
    }
   ],
   "source": [
    "n=len(my_list)\n",
    "print(my_list)\n",
    "for i in range(n-1,-1,-1):\n",
    "    for j in range(0,i):\n",
    "        if not(my_list[j]<my_list[j+1]):\n",
    "            # print(\"swap işlemi\")\n",
    "            temp=my_list[j]\n",
    "            my_list[j]=my_list[j+1]\n",
    "            my_list[j+1]=temp\n",
    "print(my_list)"
   ]
  },
  {
   "cell_type": "code",
   "execution_count": 67,
   "metadata": {},
   "outputs": [],
   "source": [
    "# with function\n",
    "def my_bubble_sort(my_list):\n",
    "    n=len(my_list)\n",
    "    #print(my_list)\n",
    "    for i in range(n-1,-1,-1):\n",
    "        for j in range(0,i):\n",
    "            if not(my_list[j]<my_list[j+1]):\n",
    "                # print(\"swap işlemi\")\n",
    "                temp=my_list[j]\n",
    "                my_list[j]=my_list[j+1]\n",
    "                my_list[j+1]=temp\n",
    "    return my_list"
   ]
  },
  {
   "cell_type": "code",
   "execution_count": 68,
   "metadata": {},
   "outputs": [
    {
     "name": "stdout",
     "output_type": "stream",
     "text": [
      "[3, -3, 3, 0]\n"
     ]
    },
    {
     "data": {
      "text/plain": [
       "[-3, 0, 3, 3]"
      ]
     },
     "execution_count": 68,
     "metadata": {},
     "output_type": "execute_result"
    }
   ],
   "source": [
    "my_list=get_n_random_numbers(4,-5,5)\n",
    "print(my_list)\n",
    "my_bubble_sort(my_list)"
   ]
  },
  {
   "cell_type": "code",
   "execution_count": 69,
   "metadata": {},
   "outputs": [],
   "source": [
    "def my_binary_search(my_list, item_search):\n",
    "    found=(-1,-1)\n",
    "    low=0\n",
    "    high=len(my_list) -1\n",
    "    while low<=high:\n",
    "        mid= (low+high) //2\n",
    "        if my_list[mid] ==item_search:\n",
    "            return my_list[mid],mid \n",
    "        elif my_list[mid] >item_search:\n",
    "            high=mid-1\n",
    "        else:\n",
    "            low=mid+1\n",
    "    return found"
   ]
  },
  {
   "cell_type": "code",
   "execution_count": 71,
   "metadata": {},
   "outputs": [
    {
     "name": "stdout",
     "output_type": "stream",
     "text": [
      "liste  [-2, -1, 4, 3, -2, 0, 1, 3, 4, -3]\n",
      "sırali liste [-3, -2, -2, -1, 0, 1, 3, 3, 4, 4]\n"
     ]
    },
    {
     "data": {
      "text/plain": [
       "(3, 7)"
      ]
     },
     "execution_count": 71,
     "metadata": {},
     "output_type": "execute_result"
    }
   ],
   "source": [
    "my_list_1=get_n_random_numbers(10)\n",
    "print(\"liste \",my_list_1)\n",
    "my_list_2=my_bubble_sort(my_list_1)\n",
    "print(\"sırali liste\",my_list_2)\n",
    "my_binary_search(my_list_2,3) "
   ]
  },
  {
   "cell_type": "code",
   "execution_count": 72,
   "metadata": {},
   "outputs": [
    {
     "name": "stdout",
     "output_type": "stream",
     "text": [
      "dizi boyutunu giriniz7\n",
      "liste  [2, -3, 5, 2, 4, -3, -1]\n"
     ]
    }
   ],
   "source": [
    "size=input(\"dizi boyutunu giriniz\")\n",
    "size=int(size) \n",
    "my_list_1=get_n_random_numbers(size)\n",
    "print(\"liste \",my_list_1)"
   ]
  },
  {
   "cell_type": "code",
   "execution_count": 88,
   "metadata": {},
   "outputs": [],
   "source": [
    "my_list_2=my_bubble_sort(my_list_1)"
   ]
  },
  {
   "cell_type": "code",
   "execution_count": 89,
   "metadata": {},
   "outputs": [
    {
     "name": "stdout",
     "output_type": "stream",
     "text": [
      "[-3, -3, -1, 2, 2, 4, 5]\n",
      "2\n"
     ]
    }
   ],
   "source": [
    "print(my_list_2)\n",
    "n=len(my_list_2)\n",
    "if n%2==1:\n",
    "    middle=int(n/2)+1\n",
    "    median=my_list_2[middle]\n",
    "    print(median)\n",
    "    \n",
    "else:\n",
    "    middle_1=my_list_2[int(n/2)]\n",
    "    middle_2=my_list_2[int(n/2)+1]\n",
    "    median=(middle_1+middle_2)/2\n",
    "    print (median)"
   ]
  },
  {
   "cell_type": "code",
   "execution_count": 90,
   "metadata": {},
   "outputs": [],
   "source": [
    "def my_median(my_list):\n",
    "    my_list_2=my_bubble_sort(my_list)\n",
    "    #print(my_list_2)\n",
    "    n=len(my_list_2)\n",
    "    if n%2==1:\n",
    "        middle=int(n/2)+1\n",
    "        median=my_list_2[middle]\n",
    "        #print(median)\n",
    "    else:\n",
    "        middle_1=my_list_2[int(n/2)]\n",
    "        middle_2=my_list_2[int(n/2)+1]\n",
    "        median=(middle_1+middle_2)/2\n",
    "        #print (median)\n",
    "    return median"
   ]
  },
  {
   "cell_type": "code",
   "execution_count": 91,
   "metadata": {},
   "outputs": [
    {
     "data": {
      "text/plain": [
       "3.5"
      ]
     },
     "execution_count": 91,
     "metadata": {},
     "output_type": "execute_result"
    }
   ],
   "source": [
    "my_list_2=get_n_random_numbers(6,-10,10)\n",
    "my_median(my_list_2)"
   ]
  },
  {
   "cell_type": "code",
   "execution_count": null,
   "metadata": {},
   "outputs": [],
   "source": []
  }
 ],
 "metadata": {
  "kernelspec": {
   "display_name": "Python 3",
   "language": "python",
   "name": "python3"
  },
  "language_info": {
   "codemirror_mode": {
    "name": "ipython",
    "version": 3
   },
   "file_extension": ".py",
   "mimetype": "text/x-python",
   "name": "python",
   "nbconvert_exporter": "python",
   "pygments_lexer": "ipython3",
   "version": "3.7.6"
  }
 },
 "nbformat": 4,
 "nbformat_minor": 4
}
