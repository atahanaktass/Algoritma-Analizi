{
 "cells": [
  {
   "cell_type": "code",
   "execution_count": 2,
   "metadata": {},
   "outputs": [],
   "source": [
    "#Atahan Aktaş 190401111\n",
    "def get_median_mode(list):\n",
    "    \n",
    "    x=len(list)\n",
    "\n",
    "    # bubble sort -- Ortalama Durum Icın O(N^2) -- En Kotu Durum Icın O(N^2)-- En Iyı Durum O(N)\n",
    "    \n",
    "    for i in range(x):             \n",
    "        for j in range(0, x-i-1):   \n",
    "            if list[j] > list[j+1] :\n",
    "                list[j], list[j+1] = list[j+1], list[j]\n",
    "    \n",
    "    # medyan -- En Iyı Durum O(1) -- Ort. Durum O(1)-- En Kotu Durum O(1)\n",
    "    \n",
    "    if x % 2 == 0: \n",
    "        median1 = list[x//2] \n",
    "        median2 = list[x//2 - 1] \n",
    "        median = (median1 + median2)/2\n",
    "    else: \n",
    "        median = list[x//2]\n",
    "   \n",
    "\n",
    "    # mod -- En Kotu Durum O(n) -- Ort. Durum O(n) -- En Iyı Durum O(n)\n",
    "    freqency={}\n",
    "    for i in list: #O(n)\n",
    "        if i in frequency:\n",
    "            frequency[i]=frequency[i]+1\n",
    "        else:\n",
    "            frequency[i]=1\n",
    "    max=1\n",
    "    mode=0\n",
    "    for i in frequency.keys(): #O(n)\n",
    "        if frequency[i]>max:\n",
    "            max=frequency[i]\n",
    "            mode=i\n",
    "    if mode == 0:\n",
    "        print(\"mod yok\")\n",
    "\n",
    "\n",
    "    return median, mode"
   ]
  },
  {
   "cell_type": "code",
   "execution_count": null,
   "metadata": {},
   "outputs": [],
   "source": []
  }
 ],
 "metadata": {
  "kernelspec": {
   "display_name": "Python 3",
   "language": "python",
   "name": "python3"
  },
  "language_info": {
   "codemirror_mode": {
    "name": "ipython",
    "version": 3
   },
   "file_extension": ".py",
   "mimetype": "text/x-python",
   "name": "python",
   "nbconvert_exporter": "python",
   "pygments_lexer": "ipython3",
   "version": "3.7.6"
  }
 },
 "nbformat": 4,
 "nbformat_minor": 4
}
