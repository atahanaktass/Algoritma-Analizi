{
 "cells": [
  {
   "cell_type": "code",
   "execution_count": null,
   "metadata": {},
   "outputs": [],
   "source": [
    "#DynamicProgramming"
   ]
  },
  {
   "cell_type": "code",
   "execution_count": 5,
   "metadata": {},
   "outputs": [],
   "source": [
    "#Fibonacci Function\n",
    "def fib(n):\n",
    "    \"\"\"Assumes n is an int >= 0\n",
    "    Returns Fibonacci of n\"\"\"\n",
    "    print(\" şu an ki call ( çağrım ) değeri : \",n)\n",
    "    if n == 0 or n == 1:\n",
    "        return 1\n",
    "    else:\n",
    "        return fib(n-1) + fib(n-2)"
   ]
  },
  {
   "cell_type": "code",
   "execution_count": 14,
   "metadata": {},
   "outputs": [
    {
     "name": "stdout",
     "output_type": "stream",
     "text": [
      " şu an ki call ( çağrım ) değeri :  5\n",
      " şu an ki call ( çağrım ) değeri :  4\n",
      " şu an ki call ( çağrım ) değeri :  3\n",
      " şu an ki call ( çağrım ) değeri :  2\n",
      " şu an ki call ( çağrım ) değeri :  1\n",
      " şu an ki call ( çağrım ) değeri :  0\n",
      " şu an ki call ( çağrım ) değeri :  1\n",
      " şu an ki call ( çağrım ) değeri :  2\n",
      " şu an ki call ( çağrım ) değeri :  1\n",
      " şu an ki call ( çağrım ) değeri :  0\n",
      " şu an ki call ( çağrım ) değeri :  3\n",
      " şu an ki call ( çağrım ) değeri :  2\n",
      " şu an ki call ( çağrım ) değeri :  1\n",
      " şu an ki call ( çağrım ) değeri :  0\n",
      " şu an ki call ( çağrım ) değeri :  1\n"
     ]
    },
    {
     "data": {
      "text/plain": [
       "8"
      ]
     },
     "execution_count": 14,
     "metadata": {},
     "output_type": "execute_result"
    }
   ],
   "source": [
    "fib(5)"
   ]
  },
  {
   "cell_type": "code",
   "execution_count": null,
   "metadata": {},
   "outputs": [],
   "source": [
    "#Gereksiz yapılan bir iş var. \n",
    "#Burada bunu önlemenin yolu hafızaya alma yöntemidir. "
   ]
  },
  {
   "cell_type": "code",
   "execution_count": 20,
   "metadata": {},
   "outputs": [],
   "source": [
    "def fastFib(n, memo = {}):\n",
    "    \"\"\"Assumes n is an int >= 0, memo used only by recursive calls\n",
    "       Returns Fibonacci of n\"\"\"\n",
    "    print(\" şu an ki call ( çağrım ) değeri : \",n)\n",
    "    if n == 0 or n == 1:\n",
    "        return 1\n",
    "    try:\n",
    "        return memo[n]\n",
    "    except KeyError:\n",
    "        result = fastFib(n-1, memo) + fastFib(n-2, memo)\n",
    "        memo[n] = result\n",
    "        return result"
   ]
  },
  {
   "cell_type": "code",
   "execution_count": 21,
   "metadata": {},
   "outputs": [
    {
     "name": "stdout",
     "output_type": "stream",
     "text": [
      " şu an ki call ( çağrım ) değeri :  5\n",
      " şu an ki call ( çağrım ) değeri :  4\n",
      " şu an ki call ( çağrım ) değeri :  3\n",
      " şu an ki call ( çağrım ) değeri :  2\n",
      " şu an ki call ( çağrım ) değeri :  1\n",
      " şu an ki call ( çağrım ) değeri :  0\n",
      " şu an ki call ( çağrım ) değeri :  1\n",
      " şu an ki call ( çağrım ) değeri :  2\n",
      " şu an ki call ( çağrım ) değeri :  3\n"
     ]
    },
    {
     "data": {
      "text/plain": [
       "8"
      ]
     },
     "execution_count": 21,
     "metadata": {},
     "output_type": "execute_result"
    }
   ],
   "source": [
    "fastFib(5)"
   ]
  },
  {
   "cell_type": "code",
   "execution_count": 19,
   "metadata": {},
   "outputs": [],
   "source": [
    "#Yukarıdaki bazı işlemleri tekrar tekrar yapıyor. \n",
    "#İşlemciyi çok fazla meşgul ediyor. \n",
    "#Karmaşıklıgı yüksek ve performansı iyi değil.\n",
    "#Buna bir çözüm ürettik hafızaya alma yöntemi. Bu daha iyi ve hızlı.\n",
    "#Tekrarlı çağrımları engellemiş oluyoruz."
   ]
  }
 ],
 "metadata": {
  "kernelspec": {
   "display_name": "Python 3",
   "language": "python",
   "name": "python3"
  },
  "language_info": {
   "codemirror_mode": {
    "name": "ipython",
    "version": 3
   },
   "file_extension": ".py",
   "mimetype": "text/x-python",
   "name": "python",
   "nbconvert_exporter": "python",
   "pygments_lexer": "ipython3",
   "version": "3.7.6"
  }
 },
 "nbformat": 4,
 "nbformat_minor": 4
}
