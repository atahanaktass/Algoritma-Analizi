{
 "cells": [
  {
   "cell_type": "code",
   "execution_count": 44,
   "metadata": {},
   "outputs": [],
   "source": [
    "class Node: \n",
    "    def __init__(self,key): \n",
    "        self.left = None\n",
    "        self.right = None\n",
    "        self.val = key \n",
    "        self.depth=0\n",
    "    def __str__(self):\n",
    "        return \"val : \" + str(self.val)+\" depth : \"+str(self.depth )"
   ]
  },
  {
   "cell_type": "code",
   "execution_count": 45,
   "metadata": {},
   "outputs": [],
   "source": [
    "def insert(root,node): \n",
    "    if root is None: \n",
    "        root = node \n",
    "    else: \n",
    "        node.depth+=1\n",
    "        if root.val < node.val: \n",
    "            if root.right is None: \n",
    "                root.right = node \n",
    "            else: \n",
    "                insert(root.right, node) \n",
    "        else: \n",
    "            if root.left is None: \n",
    "                root.left = node \n",
    "            else: \n",
    "                insert(root.left, node) "
   ]
  },
  {
   "cell_type": "code",
   "execution_count": 72,
   "metadata": {},
   "outputs": [],
   "source": [
    "import random"
   ]
  },
  {
   "cell_type": "code",
   "execution_count": 76,
   "metadata": {},
   "outputs": [],
   "source": [
    "SumOfDepth=0\n",
    "NumOfNodes=0\n",
    "def inorder(root): \n",
    "    if root: \n",
    "        inorder(root.left)\n",
    "        print(root.val,root.depth, end =\"  --  \" )\n",
    "        global SumOfDepth\n",
    "        global NumOfNodes\n",
    "        NumOfNodes+=1\n",
    "        SumOfDepth+=root.depth\n",
    "        inorder(root.right) "
   ]
  },
  {
   "cell_type": "code",
   "execution_count": 74,
   "metadata": {},
   "outputs": [],
   "source": [
    "for i in range(100):\n",
    "    s=random.randint(-1000,1000)\n",
    "    insert(r,Node(s)) "
   ]
  },
  {
   "cell_type": "code",
   "execution_count": 77,
   "metadata": {},
   "outputs": [
    {
     "name": "stdout",
     "output_type": "stream",
     "text": [
      "-968 8  --  -961 9  --  -946 10  --  -923 11  --  -900 13  --  -892 12  --  -887 7  --  -879 10  --  -879 9  --  -869 10  --  -858 11  --  -856 8  --  -847 9  --  -789 11  --  -785 10  --  -774 6  --  -761 9  --  -735 8  --  -727 7  --  -724 8  --  -711 5  --  -703 7  --  -696 6  --  -664 10  --  -661 11  --  -656 9  --  -645 12  --  -625 11  --  -624 10  --  -618 11  --  -603 12  --  -595 8  --  -594 10  --  -585 13  --  -581 14  --  -554 12  --  -525 11  --  -517 9  --  -509 12  --  -509 11  --  -502 10  --  -472 13  --  -471 12  --  -463 13  --  -436 11  --  -435 13  --  -426 12  --  -418 13  --  -395 7  --  -355 10  --  -353 12  --  -351 11  --  -310 9  --  -301 11  --  -277 10  --  -276 13  --  -271 12  --  -271 11  --  -268 13  --  -256 12  --  -249 13  --  -247 14  --  -237 8  --  -232 11  --  -218 12  --  -208 10  --  -199 13  --  -193 12  --  -183 11  --  -161 9  --  -153 4  --  -114 6  --  -102 5  --  -84 8  --  -73 7  --  -71 8  --  -62 9  --  -61 6  --  -57 7  --  -50 3  --  -49 5  --  -8 4  --  10 6  --  12 5  --  20 2  --  29 3  --  30 1  --  37 3  --  40 2  --  47 3  --  50 0  --  51 3  --  60 2  --  61 3  --  70 1  --  80 3  --  80 2  --  83 5  --  97 4  --  108 7  --  109 6  --  128 5  --  148 3  --  160 7  --  199 13  --  220 14  --  223 12  --  226 14  --  226 13  --  229 11  --  235 16  --  237 15  --  250 14  --  255 13  --  258 15  --  268 14  --  270 15  --  275 12  --  284 10  --  296 9  --  302 10  --  314 11  --  329 8  --  331 9  --  335 10  --  335 6  --  339 8  --  339 7  --  348 5  --  350 4  --  354 6  --  355 5  --  360 9  --  370 10  --  387 8  --  387 7  --  391 9  --  394 8  --  399 11  --  408 14  --  408 13  --  412 17  --  425 16  --  430 17  --  434 15  --  442 16  --  444 14  --  451 12  --  463 14  --  465 13  --  482 14  --  485 15  --  485 10  --  494 11  --  502 13  --  513 12  --  514 15  --  525 14  --  545 13  --  556 9  --  576 13  --  580 12  --  583 13  --  594 15  --  595 14  --  597 15  --  610 11  --  627 10  --  635 14  --  636 13  --  642 15  --  664 14  --  672 12  --  675 11  --  686 13  --  689 14  --  694 12  --  706 13  --  709 6  --  723 9  --  727 10  --  728 11  --  736 8  --  743 9  --  744 11  --  764 13  --  765 12  --  769 10  --  786 12  --  792 13  --  807 14  --  824 11  --  832 12  --  833 15  --  853 16  --  863 14  --  866 15  --  873 13  --  922 7  --  925 10  --  929 9  --  929 8  --  932 9  --  940 11  --  985 13  --  997 12  --  997 10  --  "
     ]
    }
   ],
   "source": [
    "inorder(r)"
   ]
  },
  {
   "cell_type": "code",
   "execution_count": 78,
   "metadata": {},
   "outputs": [
    {
     "name": "stdout",
     "output_type": "stream",
     "text": [
      "-968 8  --  -961 9  --  -946 10  --  -923 11  --  -900 13  --  -892 12  --  -887 7  --  -879 10  --  -879 9  --  -869 10  --  -858 11  --  -856 8  --  -847 9  --  -789 11  --  -785 10  --  -774 6  --  -761 9  --  -735 8  --  -727 7  --  -724 8  --  -711 5  --  -703 7  --  -696 6  --  -664 10  --  -661 11  --  -656 9  --  -645 12  --  -625 11  --  -624 10  --  -618 11  --  -603 12  --  -595 8  --  -594 10  --  -585 13  --  -581 14  --  -554 12  --  -525 11  --  -517 9  --  -509 12  --  -509 11  --  -502 10  --  -472 13  --  -471 12  --  -463 13  --  -436 11  --  -435 13  --  -426 12  --  -418 13  --  -395 7  --  -355 10  --  -353 12  --  -351 11  --  -310 9  --  -301 11  --  -277 10  --  -276 13  --  -271 12  --  -271 11  --  -268 13  --  -256 12  --  -249 13  --  -247 14  --  -237 8  --  -232 11  --  -218 12  --  -208 10  --  -199 13  --  -193 12  --  -183 11  --  -161 9  --  -153 4  --  -114 6  --  -102 5  --  -84 8  --  -73 7  --  -71 8  --  -62 9  --  -61 6  --  -57 7  --  -50 3  --  -49 5  --  -8 4  --  10 6  --  12 5  --  20 2  --  29 3  --  30 1  --  37 3  --  40 2  --  47 3  --  50 0  --  51 3  --  60 2  --  61 3  --  70 1  --  80 3  --  80 2  --  83 5  --  97 4  --  108 7  --  109 6  --  128 5  --  148 3  --  160 7  --  199 13  --  220 14  --  223 12  --  226 14  --  226 13  --  229 11  --  235 16  --  237 15  --  250 14  --  255 13  --  258 15  --  268 14  --  270 15  --  275 12  --  284 10  --  296 9  --  302 10  --  314 11  --  329 8  --  331 9  --  335 10  --  335 6  --  339 8  --  339 7  --  348 5  --  350 4  --  354 6  --  355 5  --  360 9  --  370 10  --  387 8  --  387 7  --  391 9  --  394 8  --  399 11  --  408 14  --  408 13  --  412 17  --  425 16  --  430 17  --  434 15  --  442 16  --  444 14  --  451 12  --  463 14  --  465 13  --  482 14  --  485 15  --  485 10  --  494 11  --  502 13  --  513 12  --  514 15  --  525 14  --  545 13  --  556 9  --  576 13  --  580 12  --  583 13  --  594 15  --  595 14  --  597 15  --  610 11  --  627 10  --  635 14  --  636 13  --  642 15  --  664 14  --  672 12  --  675 11  --  686 13  --  689 14  --  694 12  --  706 13  --  709 6  --  723 9  --  727 10  --  728 11  --  736 8  --  743 9  --  744 11  --  764 13  --  765 12  --  769 10  --  786 12  --  792 13  --  807 14  --  824 11  --  832 12  --  833 15  --  853 16  --  863 14  --  866 15  --  873 13  --  922 7  --  925 10  --  929 9  --  929 8  --  932 9  --  940 11  --  985 13  --  997 12  --  997 10  --  "
     ]
    },
    {
     "data": {
      "text/plain": [
       "(None, 4168, 414, 10.067632850241546, 6.025865973825314)"
      ]
     },
     "execution_count": 78,
     "metadata": {},
     "output_type": "execute_result"
    }
   ],
   "source": [
    "import math\n",
    "inorder(r),SumOfDepth,NumOfNodes,SumOfDepth/NumOfNodes,math.log(NumOfNodes)"
   ]
  },
  {
   "cell_type": "code",
   "execution_count": 53,
   "metadata": {},
   "outputs": [],
   "source": [
    "def search(root,key): \n",
    "      \n",
    "    # Base Cases: root is null or key is present at root \n",
    "    if root is None or root.val == key: \n",
    "        return root \n",
    "  \n",
    "    # Key is greater than root's key \n",
    "    if root.val < key: \n",
    "        return search(root.right,key) \n",
    "    \n",
    "    # Key is smaller than root's key \n",
    "    return search(root.left,key)"
   ]
  },
  {
   "cell_type": "code",
   "execution_count": 54,
   "metadata": {},
   "outputs": [],
   "source": [
    "r = Node(50) "
   ]
  },
  {
   "cell_type": "code",
   "execution_count": 55,
   "metadata": {},
   "outputs": [
    {
     "data": {
      "text/plain": [
       "(50, 0)"
      ]
     },
     "execution_count": 55,
     "metadata": {},
     "output_type": "execute_result"
    }
   ],
   "source": [
    "r.val,r.depth"
   ]
  },
  {
   "cell_type": "code",
   "execution_count": 56,
   "metadata": {},
   "outputs": [],
   "source": [
    "insert(r,Node(30)) "
   ]
  },
  {
   "cell_type": "code",
   "execution_count": 57,
   "metadata": {},
   "outputs": [],
   "source": [
    "insert(r,Node(20)) \n",
    "insert(r,Node(40)) \n",
    "insert(r,Node(70)) \n",
    "insert(r,Node(60)) \n",
    "insert(r,Node(80))"
   ]
  },
  {
   "cell_type": "code",
   "execution_count": 62,
   "metadata": {},
   "outputs": [
    {
     "name": "stdout",
     "output_type": "stream",
     "text": [
      "20 2  --  30 1  --  40 2  --  50 0  --  60 2  --  70 1  --  80 2  --  "
     ]
    },
    {
     "data": {
      "text/plain": [
       "0"
      ]
     },
     "execution_count": 62,
     "metadata": {},
     "output_type": "execute_result"
    }
   ],
   "source": [
    "inorder(r) "
   ]
  },
  {
   "cell_type": "code",
   "execution_count": 25,
   "metadata": {},
   "outputs": [],
   "source": [
    "result=search(r,20)"
   ]
  },
  {
   "cell_type": "code",
   "execution_count": 26,
   "metadata": {},
   "outputs": [
    {
     "data": {
      "text/plain": [
       "20"
      ]
     },
     "execution_count": 26,
     "metadata": {},
     "output_type": "execute_result"
    }
   ],
   "source": [
    "result.val"
   ]
  },
  {
   "cell_type": "code",
   "execution_count": 37,
   "metadata": {},
   "outputs": [],
   "source": [
    "def minValueNode( node): \n",
    "    current = node \n",
    "  \n",
    "    # loop down to find the leftmost leaf \n",
    "    while(current.left is not None): \n",
    "        current = current.left  \n",
    "  \n",
    "    return current  \n",
    "  \n",
    "# Given a binary search tree and a key, this function \n",
    "# delete the key and returns the new root \n",
    "def deleteNode(root, key): \n",
    "  \n",
    "    # Base Case \n",
    "    if root is None: \n",
    "        return root  \n",
    "  \n",
    "    # If the key to be deleted is smaller than the root's \n",
    "    # key then it lies in  left subtree \n",
    "    if key < root.val: \n",
    "        root.left = deleteNode(root.left, key) \n",
    "  \n",
    "    # If the kye to be delete is greater than the root's key \n",
    "    # then it lies in right subtree \n",
    "    elif(key > root.val): \n",
    "        root.right = deleteNode(root.right, key) \n",
    "  \n",
    "    # If key is same as root's key, then this is the node \n",
    "    # to be deleted \n",
    "    else: \n",
    "          \n",
    "        # Node with only one child or no child \n",
    "        if root.left is None : \n",
    "            temp = root.right  \n",
    "            root = None \n",
    "            return temp  \n",
    "              \n",
    "        elif root.right is None : \n",
    "            temp = root.left  \n",
    "            root = None\n",
    "            return temp \n",
    "  \n",
    "        # Node with two children: Get the inorder successor \n",
    "        # (smallest in the right subtree) \n",
    "        temp = minValueNode(root.right) \n",
    "  \n",
    "        # Copy the inorder successor's content to this node \n",
    "        root.key = temp.val \n",
    "  \n",
    "        # Delete the inorder successor \n",
    "        root.right = deleteNode(root.right , temp.val) \n",
    "  \n",
    "  \n",
    "    return root  "
   ]
  },
  {
   "cell_type": "code",
   "execution_count": 42,
   "metadata": {},
   "outputs": [
    {
     "name": "stdout",
     "output_type": "stream",
     "text": [
      "Inorder traversal of the modified tree\n",
      "30 50 70 80 250 350 "
     ]
    }
   ],
   "source": [
    "root = deleteNode(r, 40) \n",
    "insert(root,Node(350))\n",
    "print(\"Inorder traversal of the modified tree\")\n",
    "inorder(root) "
   ]
  },
  {
   "cell_type": "code",
   "execution_count": null,
   "metadata": {},
   "outputs": [],
   "source": [
    "#Ağaç veri yapısı bazen liste şeklinde oluşur worstcase n dir."
   ]
  }
 ],
 "metadata": {
  "kernelspec": {
   "display_name": "Python 3",
   "language": "python",
   "name": "python3"
  },
  "language_info": {
   "codemirror_mode": {
    "name": "ipython",
    "version": 3
   },
   "file_extension": ".py",
   "mimetype": "text/x-python",
   "name": "python",
   "nbconvert_exporter": "python",
   "pygments_lexer": "ipython3",
   "version": "3.7.6"
  }
 },
 "nbformat": 4,
 "nbformat_minor": 4
}
