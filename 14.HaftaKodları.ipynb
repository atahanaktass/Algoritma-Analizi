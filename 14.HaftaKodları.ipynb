{
 "cells": [
  {
   "cell_type": "code",
   "execution_count": 1,
   "metadata": {},
   "outputs": [],
   "source": [
    "def variance(X):\n",
    "    mean = sum(X)/len(X)\n",
    "    tot = 0.0\n",
    "    for x in X:\n",
    "        tot += (x - mean)**2\n",
    "    return tot/len(X)\n",
    "def stdDev(X):\n",
    "    return variance(X)**0.5"
   ]
  },
  {
   "cell_type": "code",
   "execution_count": 2,
   "metadata": {},
   "outputs": [],
   "source": [
    "import random\n",
    "import pylab\n",
    "def plotMeans(numDicePerTrial, numDiceThrown, numBins, legend, color, style):\n",
    "    means = []\n",
    "    numTrials = numDiceThrown//numDicePerTrial\n",
    "    for i in range(numTrials):\n",
    "        vals = 0\n",
    "        for j in range(numDicePerTrial):\n",
    "            vals += 5*random.random()\n",
    "        means.append(vals/numDicePerTrial)\n",
    "        pylab.hist(means, numBins, color = color, label = legend, weights = pylab.array(len(means)*[1])/len(means),hatch = style)\n",
    "    return sum(means)/len(means), variance(means)"
   ]
  },
  {
   "cell_type": "code",
   "execution_count": 4,
   "metadata": {},
   "outputs": [
    {
     "name": "stdout",
     "output_type": "stream",
     "text": [
      "Mean of rolling 1 die = 2.7627 Variance = 0.1684\n"
     ]
    },
    {
     "data": {
      "image/png": "[encoded data removed]",
      "text/plain": [
       "<Figure size 432x288 with 1 Axes>"
      ]
     },
     "metadata": {
      "needs_background": "light"
     },
     "output_type": "display_data"
    }
   ],
   "source": [
    "mean, var = plotMeans(10, 100, 50, '1 die', 'w', '*')\n",
    "print('Mean of rolling 1 die =', round (mean,4), 'Variance =', round(var,4))"
   ]
  },
  {
   "cell_type": "code",
   "execution_count": null,
   "metadata": {},
   "outputs": [],
   "source": [
    "mean, var = plotMeans(100, 100000, 11,'Mean of 100 dice', 'w', '//')\n",
    "print('Mean of rolling 100 die =', round (mean,4), 'Variance =', round(var,4))\n",
    "pylab.title('Rolling Continous Dice')\n",
    "pylab.xlabel('Value')\n",
    "pylab.ylabel('Probability')\n",
    "pylab.legend()"
   ]
  }
 ],
 "metadata": {
  "kernelspec": {
   "display_name": "Python 3",
   "language": "python",
   "name": "python3"
  },
  "language_info": {
   "codemirror_mode": {
    "name": "ipython",
    "version": 3
   },
   "file_extension": ".py",
   "mimetype": "text/x-python",
   "name": "python",
   "nbconvert_exporter": "python",
   "pygments_lexer": "ipython3",
   "version": "3.7.6"
  }
 },
 "nbformat": 4,
 "nbformat_minor": 4
}
