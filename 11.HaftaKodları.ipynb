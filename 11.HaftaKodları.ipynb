{
 "cells": [
  {
   "cell_type": "code",
   "execution_count": 1,
   "metadata": {},
   "outputs": [],
   "source": [
    "def min_heapify(array, i):\n",
    "    left = 2 * i + 1\n",
    "    right = 2 * i + 2\n",
    "    length = len(array) - 1\n",
    "    smallest = i\n",
    "    if left <= length and array[i] > array[left]:\n",
    "        smallest = left\n",
    "    if right <= length and array[smallest] > array[right]:\n",
    "        smallest = right\n",
    "    if smallest != i:\n",
    "        array[i], array[smallest] = array[smallest], array[i]\n",
    "        min_heapify(array, smallest)"
   ]
  },
  {
   "cell_type": "code",
   "execution_count": 2,
   "metadata": {},
   "outputs": [],
   "source": [
    "def build_min_heap(array):\n",
    "    for i in reversed(range(len(array)//2)):\n",
    "        min_heapify(array, i)\n",
    "    return array"
   ]
  },
  {
   "cell_type": "code",
   "execution_count": 4,
   "metadata": {},
   "outputs": [],
   "source": [
    "my_array_1=[8,10,3,4,7,14,1,2,16]"
   ]
  },
  {
   "cell_type": "code",
   "execution_count": 5,
   "metadata": {},
   "outputs": [],
   "source": [
    "build_min_heap(my_array_1)"
   ]
  },
  {
   "cell_type": "code",
   "execution_count": 6,
   "metadata": {},
   "outputs": [
    {
     "data": {
      "text/plain": [
       "[1, 2, 3, 4, 7, 14, 8, 10, 16]"
      ]
     },
     "execution_count": 6,
     "metadata": {},
     "output_type": "execute_result"
    }
   ],
   "source": [
    "my_array_1"
   ]
  },
  {
   "cell_type": "code",
   "execution_count": 4,
   "metadata": {},
   "outputs": [],
   "source": [
    "def heapsort(array):\n",
    "    array = array.copy()\n",
    "    build_min_heap(array)\n",
    "    sorted_array = []\n",
    "    for _ in range(len(array)):\n",
    "        array[0], array[-1] = array[-1], array[0]\n",
    "        sorted_array.append(array.pop())\n",
    "        min_heapify(array, 0)\n",
    "    return sorted_array"
   ]
  },
  {
   "cell_type": "code",
   "execution_count": 5,
   "metadata": {},
   "outputs": [
    {
     "data": {
      "text/plain": [
       "([8, 10, 3, 4, 7, 14, 1, 2, 16], [1, 2, 3, 4, 7, 8, 10, 14, 16])"
      ]
     },
     "execution_count": 5,
     "metadata": {},
     "output_type": "execute_result"
    }
   ],
   "source": [
    "my_array_1=[8,10,3,4,7,14,1,2,16]\n",
    "my_array_2=heapsort(my_array_1)\n",
    "my_array_1,my_array_2"
   ]
  },
  {
   "cell_type": "code",
   "execution_count": 15,
   "metadata": {},
   "outputs": [],
   "source": [
    "def insertItemToHeap(my_heap,item):\n",
    "    my_heap.append(item)\n",
    "    n=len(my_heap)\n",
    "    n=n-1\n",
    "    if (n//2==n/2):\n",
    "        parent_indis=n//2-1\n",
    "    else:\n",
    "        parent_indis=n//2\n",
    "    print(\" n, parent indis \",n,parent_indis)\n",
    "        \n",
    "    while parent_indis>=0:\n",
    "        print(\"parent indis \",parent_indis)\n",
    "        min_heapify(my_heap, parent_indis)\n",
    "        # if exchange not exists , then break\n",
    "        if (parent_indis//2==parent_indis/2):\n",
    "            parent_indis=parent_indis//2-1\n",
    "        else:\n",
    "            parent_indis=parent_indis//2\n",
    "    return my_heap\n",
    "    "
   ]
  },
  {
   "cell_type": "code",
   "execution_count": 20,
   "metadata": {},
   "outputs": [],
   "source": [
    "def removeItemFromHeap(my_heap):\n",
    "    \n",
    "    my_heap[0], my_heap[-1] = my_heap[-1], my_heap[0]\n",
    "    s=my_heap.pop()\n",
    "    min_heapify(my_heap, 0)\n",
    "    \n",
    "    return my_heap"
   ]
  },
  {
   "cell_type": "code",
   "execution_count": 21,
   "metadata": {},
   "outputs": [
    {
     "data": {
      "text/plain": [
       "[1, 3, 5, 4, 7, 14, 8, 12, 10]"
      ]
     },
     "execution_count": 21,
     "metadata": {},
     "output_type": "execute_result"
    }
   ],
   "source": [
    "my_array_2"
   ]
  },
  {
   "cell_type": "code",
   "execution_count": 23,
   "metadata": {},
   "outputs": [
    {
     "data": {
      "text/plain": [
       "[4, 7, 5, 10, 12, 14, 8]"
      ]
     },
     "execution_count": 23,
     "metadata": {},
     "output_type": "execute_result"
    }
   ],
   "source": [
    "removeItemFromHeap(my_array_2)"
   ]
  },
  {
   "cell_type": "code",
   "execution_count": 16,
   "metadata": {},
   "outputs": [
    {
     "name": "stdout",
     "output_type": "stream",
     "text": [
      "[8, 10, 3, 4, 7, 14]\n"
     ]
    },
    {
     "data": {
      "text/plain": [
       "[3, 4, 8, 10, 7, 14]"
      ]
     },
     "execution_count": 16,
     "metadata": {},
     "output_type": "execute_result"
    }
   ],
   "source": [
    "# my_array_1=[8,10,3,4,7,14,1,2,16]\n",
    "my_array_1=[8,10,3,4,7,14]\n",
    "print(my_array_1)\n",
    "my_array_2=build_min_heap(my_array_1)\n",
    "my_array_2"
   ]
  },
  {
   "cell_type": "code",
   "execution_count": 19,
   "metadata": {},
   "outputs": [
    {
     "name": "stdout",
     "output_type": "stream",
     "text": [
      " n, parent indis  8 3\n",
      "parent indis  3\n",
      "parent indis  1\n",
      "parent indis  0\n"
     ]
    },
    {
     "data": {
      "text/plain": [
       "[1, 3, 5, 4, 7, 14, 8, 12, 10]"
      ]
     },
     "execution_count": 19,
     "metadata": {},
     "output_type": "execute_result"
    }
   ],
   "source": [
    "insertItemToHeap(my_array_2,1)\n",
    "my_array_2"
   ]
  },
  {
   "cell_type": "code",
   "execution_count": 11,
   "metadata": {},
   "outputs": [
    {
     "data": {
      "text/plain": [
       "10"
      ]
     },
     "execution_count": 11,
     "metadata": {},
     "output_type": "execute_result"
    }
   ],
   "source": [
    "n=len(my_array_2)\n",
    "n"
   ]
  },
  {
   "cell_type": "code",
   "execution_count": 12,
   "metadata": {},
   "outputs": [
    {
     "name": "stdout",
     "output_type": "stream",
     "text": [
      "11\n",
      "5\n",
      "2\n",
      "1\n"
     ]
    }
   ],
   "source": [
    "s=n+1\n",
    "while s>=1:\n",
    "    print(s)\n",
    "    s=s//2"
   ]
  },
  {
   "cell_type": "code",
   "execution_count": 13,
   "metadata": {},
   "outputs": [
    {
     "data": {
      "text/plain": [
       "0"
      ]
     },
     "execution_count": 13,
     "metadata": {},
     "output_type": "execute_result"
    }
   ],
   "source": [
    "1//2"
   ]
  },
  {
   "cell_type": "code",
   "execution_count": 14,
   "metadata": {},
   "outputs": [
    {
     "data": {
      "text/plain": [
       "1"
      ]
     },
     "execution_count": 14,
     "metadata": {},
     "output_type": "execute_result"
    }
   ],
   "source": [
    "2//2"
   ]
  },
  {
   "cell_type": "code",
   "execution_count": 15,
   "metadata": {},
   "outputs": [
    {
     "name": "stdout",
     "output_type": "stream",
     "text": [
      "0 çift\n",
      "1 tek\n",
      "2 çift\n",
      "3 tek\n",
      "4 çift\n",
      "5 tek\n",
      "6 çift\n",
      "7 tek\n",
      "8 çift\n",
      "9 tek\n"
     ]
    }
   ],
   "source": [
    "for n in range(0,10):\n",
    "    print(n,end=\" \")\n",
    "    if (n//2==n/2):\n",
    "        print(\"çift\")\n",
    "    if (n//2!=n/2):\n",
    "        print(\"tek\")"
   ]
  },
  {
   "cell_type": "code",
   "execution_count": 20,
   "metadata": {},
   "outputs": [
    {
     "name": "stdout",
     "output_type": "stream",
     "text": [
      "10 4\n",
      "9 4\n",
      "8 3\n",
      "7 3\n",
      "6 2\n",
      "5 2\n",
      "4 1\n",
      "3 1\n",
      "2 0\n",
      "1 0\n",
      "0 -1\n",
      "-1 -1\n",
      "-2 -2\n",
      "-3 -2\n",
      "-4 -3\n",
      "-5 -3\n",
      "-6 -4\n",
      "-7 -4\n",
      "-8 -5\n",
      "-9 -5\n"
     ]
    }
   ],
   "source": [
    "for n in range(10,-10,-1):\n",
    "    if(n//2==n/2):\n",
    "        parent=(n//2)-1\n",
    "    else:\n",
    "         parent=(n//2)\n",
    "    print(n,parent)"
   ]
  },
  {
   "cell_type": "code",
   "execution_count": null,
   "metadata": {},
   "outputs": [],
   "source": [
    "def insertItemToHeap(my_heap,item):\n",
    "    my_heap.append(item)\n",
    "    n=len(my_heap)\n",
    "    \n",
    "    if(n//2==n/2):\n",
    "        parent_indis=(n//2)-1\n",
    "    else:\n",
    "         parent_indis=(n//2)\n",
    "            \n",
    "    while parent_indis>=1:\n",
    "        min_heapify(my_heap, parent_indis-1)\n",
    "        parent_indis=parent_indis//2"
   ]
  }
 ],
 "metadata": {
  "kernelspec": {
   "display_name": "Python 3",
   "language": "python",
   "name": "python3"
  },
  "language_info": {
   "codemirror_mode": {
    "name": "ipython",
    "version": 3
   },
   "file_extension": ".py",
   "mimetype": "text/x-python",
   "name": "python",
   "nbconvert_exporter": "python",
   "pygments_lexer": "ipython3",
   "version": "3.7.6"
  }
 },
 "nbformat": 4,
 "nbformat_minor": 4
}
