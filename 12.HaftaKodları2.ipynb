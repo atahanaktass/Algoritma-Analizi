{
 "cells": [
  {
   "cell_type": "code",
   "execution_count": 1,
   "metadata": {},
   "outputs": [],
   "source": [
    "from pprint import pprint as pp\n",
    "from itertools import chain, combinations\n",
    "def powerset(iterable):\n",
    "    \"powerset([1,2,3]) --> () (1,) (2,) (3,) (1,2) (1,3) (2,3) (1,2,3)\"\n",
    "    s = list(iterable)\n",
    "    return chain.from_iterable(combinations(s, r) for r in range(len(s)+1))"
   ]
  },
  {
   "cell_type": "code",
   "execution_count": 8,
   "metadata": {},
   "outputs": [],
   "source": [
    "pset=set(powerset({1,2}))"
   ]
  },
  {
   "cell_type": "code",
   "execution_count": 9,
   "metadata": {},
   "outputs": [
    {
     "name": "stdout",
     "output_type": "stream",
     "text": [
      "(1, 2)\n",
      "(2,)\n",
      "()\n",
      "(1,)\n"
     ]
    }
   ],
   "source": [
    "for set_1 in pset:\n",
    "    print(set_1)"
   ]
  },
  {
   "cell_type": "code",
   "execution_count": null,
   "metadata": {},
   "outputs": [],
   "source": [
    "#Greedy yöntemin en iyi çözümü ürettiğini garanti edemeyiz. \n",
    "#En iyi yöntem oldugunu söylemek için bu şekilde olası bütün durumları karşılaştırıp \n",
    "#En iyi oldugunu, yakaladıgımız bütün değerleri raporlayarak veya return ederek bulmuş oluyoruz.\n",
    "#Problem ne buradaki item sayısı 4,5 oldugunda bu bulunur ama item 50,60 oldugunda çalışması uzun sürer. Diğer yöntem bu açıdan daha avantajlı.\n",
    "#Bu algoritmanın karmaşıklıgı ne dersek O(2^n) gibi görülebilir. \n",
    "#Algoritma çok sade görülsede bir yerde powerset algoritması kullandıgı için karmaşıklık birden bire O(n) den O(2^n) e gidiyor.\n",
    "#Powerset çıkarıldıgında karmaşıklık O(n) olarak kalıyor greedy ile eş değer oluyor.\n",
    "#Greedy de problem en iyi yöntem oldugunu garanti edemiyor.\n",
    "#Greedy Optimal değil karmaşıklık n\n",
    "#2.Yöntem optimal ama karmaşıklık 2 üzeri n"
   ]
  }
 ],
 "metadata": {
  "kernelspec": {
   "display_name": "Python 3",
   "language": "python",
   "name": "python3"
  },
  "language_info": {
   "codemirror_mode": {
    "name": "ipython",
    "version": 3
   },
   "file_extension": ".py",
   "mimetype": "text/x-python",
   "name": "python",
   "nbconvert_exporter": "python",
   "pygments_lexer": "ipython3",
   "version": "3.7.6"
  }
 },
 "nbformat": 4,
 "nbformat_minor": 4
}
