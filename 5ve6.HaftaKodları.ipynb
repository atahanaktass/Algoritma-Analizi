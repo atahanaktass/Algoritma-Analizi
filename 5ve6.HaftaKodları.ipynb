{
 "cells": [
  {
   "cell_type": "code",
   "execution_count": null,
   "metadata": {},
   "outputs": [],
   "source": [
    "#yöntem1\n",
    "#Python kodunun çalıştığını görmek için\n",
    "#Listenin Medyanı\n",
    "#Döngü + \"fark\" operatorünü kullanma"
   ]
  },
  {
   "cell_type": "code",
   "execution_count": 9,
   "metadata": {},
   "outputs": [],
   "source": [
    "#Başlangıç Listesi\n",
    "test_list=[4,5,8,9,10,17]"
   ]
  },
  {
   "cell_type": "code",
   "execution_count": 2,
   "metadata": {},
   "outputs": [
    {
     "name": "stdout",
     "output_type": "stream",
     "text": [
      "the original list: [4, 5, 8, 9, 10, 17]\n"
     ]
    }
   ],
   "source": [
    "#liste yazdırma\n",
    "print(\"the original list: \" + str(test_list))"
   ]
  },
  {
   "cell_type": "code",
   "execution_count": 3,
   "metadata": {},
   "outputs": [],
   "source": [
    "#listenin medyanı\n",
    "test_list.sort()\n",
    "mid=len(test_list)//2\n",
    "res= (test_list[mid]+test_list[~mid])/2"
   ]
  },
  {
   "cell_type": "code",
   "execution_count": 4,
   "metadata": {},
   "outputs": [
    {
     "name": "stdout",
     "output_type": "stream",
     "text": [
      "median of list is: 8.5\n"
     ]
    }
   ],
   "source": [
    "#sonucu yazdırma\n",
    "print (\"median of list is: \" + str(res))"
   ]
  },
  {
   "cell_type": "code",
   "execution_count": null,
   "metadata": {},
   "outputs": [],
   "source": [
    "#yöntem2\n",
    "#Python kodunun çalıştığını görmek için\n",
    "#Listenin Medyanı\n",
    "#static.median() kullanma"
   ]
  },
  {
   "cell_type": "code",
   "execution_count": 23,
   "metadata": {},
   "outputs": [],
   "source": [
    "import stats"
   ]
  },
  {
   "cell_type": "code",
   "execution_count": 24,
   "metadata": {},
   "outputs": [],
   "source": [
    "#başlangıç listesi\n",
    "test_list=[4,5,8,9,10,17]"
   ]
  },
  {
   "cell_type": "code",
   "execution_count": 25,
   "metadata": {},
   "outputs": [
    {
     "name": "stdout",
     "output_type": "stream",
     "text": [
      "the original list: [4, 5, 8, 9, 10, 17]\n"
     ]
    }
   ],
   "source": [
    "#liste yazdırma\n",
    "print(\"the original list: \" + str(test_list))"
   ]
  },
  {
   "cell_type": "code",
   "execution_count": 28,
   "metadata": {},
   "outputs": [],
   "source": [
    "#medyanı listeler\n",
    "#statics.median() kullanma\n",
    "res=stats.median(test_list)"
   ]
  },
  {
   "cell_type": "code",
   "execution_count": 29,
   "metadata": {},
   "outputs": [
    {
     "name": "stdout",
     "output_type": "stream",
     "text": [
      "median of list is: 8.5\n"
     ]
    }
   ],
   "source": [
    "#sonucu yazdırma\n",
    "print (\"median of list is: \" + str(res))"
   ]
  },
  {
   "cell_type": "code",
   "execution_count": null,
   "metadata": {},
   "outputs": [],
   "source": []
  }
 ],
 "metadata": {
  "kernelspec": {
   "display_name": "Python 3",
   "language": "python",
   "name": "python3"
  },
  "language_info": {
   "codemirror_mode": {
    "name": "ipython",
    "version": 3
   },
   "file_extension": ".py",
   "mimetype": "text/x-python",
   "name": "python",
   "nbconvert_exporter": "python",
   "pygments_lexer": "ipython3",
   "version": "3.7.6"
  }
 },
 "nbformat": 4,
 "nbformat_minor": 4
}
