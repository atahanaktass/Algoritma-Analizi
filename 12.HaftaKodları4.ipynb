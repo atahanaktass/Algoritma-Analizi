{
 "cells": [
  {
   "cell_type": "code",
   "execution_count": 6,
   "metadata": {},
   "outputs": [],
   "source": [
    "#Fibonacci Function\n",
    "def fib(n):\n",
    "    \"\"\"Assumes n is an int >= 0\n",
    "    Returns Fibonacci of n\"\"\"\n",
    "    #print(\" şu an ki call ( çağrım ) değeri : \",n)\n",
    "    if n == 0 or n == 1:\n",
    "        return 1\n",
    "    else:\n",
    "        return fib(n-1) + fib(n-2)"
   ]
  },
  {
   "cell_type": "code",
   "execution_count": 8,
   "metadata": {},
   "outputs": [
    {
     "data": {
      "text/plain": [
       "8"
      ]
     },
     "execution_count": 8,
     "metadata": {},
     "output_type": "execute_result"
    }
   ],
   "source": [
    "fib(5)"
   ]
  },
  {
   "cell_type": "code",
   "execution_count": 9,
   "metadata": {},
   "outputs": [],
   "source": [
    "def fastFib(n, memo = {}):\n",
    "    \"\"\"Assumes n is an int >= 0, memo used only by recursive calls\n",
    "       Returns Fibonacci of n\"\"\"\n",
    "    print(\" şu an ki call ( çağrım ) değeri : \",n)\n",
    "    if n == 0 or n == 1:\n",
    "        return 1\n",
    "    try:\n",
    "        return memo[n]\n",
    "    except KeyError:\n",
    "        result = fastFib(n-1, memo) + fastFib(n-2, memo)\n",
    "        memo[n] = result\n",
    "        return result"
   ]
  },
  {
   "cell_type": "code",
   "execution_count": 10,
   "metadata": {},
   "outputs": [
    {
     "name": "stdout",
     "output_type": "stream",
     "text": [
      " şu an ki call ( çağrım ) değeri :  5\n",
      " şu an ki call ( çağrım ) değeri :  4\n",
      " şu an ki call ( çağrım ) değeri :  3\n",
      " şu an ki call ( çağrım ) değeri :  2\n",
      " şu an ki call ( çağrım ) değeri :  1\n",
      " şu an ki call ( çağrım ) değeri :  0\n",
      " şu an ki call ( çağrım ) değeri :  1\n",
      " şu an ki call ( çağrım ) değeri :  2\n",
      " şu an ki call ( çağrım ) değeri :  3\n"
     ]
    },
    {
     "data": {
      "text/plain": [
       "8"
      ]
     },
     "execution_count": 10,
     "metadata": {},
     "output_type": "execute_result"
    }
   ],
   "source": [
    "fastFib(5)"
   ]
  },
  {
   "cell_type": "code",
   "execution_count": 11,
   "metadata": {},
   "outputs": [],
   "source": [
    "def maxVal(toConsider, avail):\n",
    "    \"\"\"Assumes toConsider a list of items, avail a weight\n",
    "    Returns a tuple of the total weight of a solution to the\n",
    "    0/1 knapsack problem and the items of that solution\"\"\"\n",
    "    if toConsider == [] or avail == 0:\n",
    "        result = (0, ())\n",
    "    elif toConsider[0].getWeight() > avail:\n",
    "        #Explore right branch only\n",
    "        result = maxVal(toConsider[1:], avail)\n",
    "    else:\n",
    "        nextItem = toConsider[0]\n",
    "        #Explore left branch\n",
    "        withVal, withToTake = maxVal(toConsider[1:],\n",
    "        avail - nextItem.getWeight())\n",
    "        withVal += nextItem.getValue()\n",
    "        #Explore right branch\n",
    "        withoutVal, withoutToTake = maxVal(toConsider[1:], avail)\n",
    "        #Choose better branch\n",
    "        if withVal > withoutVal:\n",
    "            result = (withVal, withToTake + (nextItem,))\n",
    "        else:\n",
    "            result = (withoutVal, withoutToTake)\n",
    "    return result"
   ]
  },
  {
   "cell_type": "code",
   "execution_count": 12,
   "metadata": {},
   "outputs": [],
   "source": [
    "class Item(object):\n",
    "    def __init__(self, n, v, w):\n",
    "        self.name = n\n",
    "        self.value = float(v)\n",
    "        self.weight = float(w)\n",
    "    def getName(self):\n",
    "        return self.name\n",
    "    def getValue(self):\n",
    "        return self.value\n",
    "    def getWeight(self):\n",
    "        return self.weight\n",
    "    def __str__(self):\n",
    "        result = (\"<\" + self.name + \", \" + str(self.value)\\\n",
    "        + \", \" + str(self.weight) + \">\")\n",
    "        return result"
   ]
  },
  {
   "cell_type": "code",
   "execution_count": 17,
   "metadata": {},
   "outputs": [
    {
     "name": "stdout",
     "output_type": "stream",
     "text": [
      "<d, 9.0, 2.0>\n",
      "<c, 8.0, 1.0>\n",
      "<a, 6.0, 1.0>\n",
      "Total value of items taken = 23.0\n"
     ]
    }
   ],
   "source": [
    "def smallTest():\n",
    "    names = ['a', 'b', 'c', 'd']\n",
    "    vals = [6, 7, 8, 9]\n",
    "    weights = [1, 11, 1, 2]\n",
    "    Items = []\n",
    "    for i in range(len(vals)):\n",
    "        Items.append(Item(names[i], vals[i], weights[i]))\n",
    "    val, taken = maxVal(Items, 5)\n",
    "    for item in taken:\n",
    "        print(item)\n",
    "    print('Total value of items taken =', val)\n",
    "smallTest()"
   ]
  },
  {
   "cell_type": "code",
   "execution_count": 18,
   "metadata": {},
   "outputs": [],
   "source": [
    "import random\n",
    "def buildManyItems(numItems, maxVal, maxWeight):\n",
    "    items = []\n",
    "    for i in range(numItems):\n",
    "        items.append(Item(str(i),\n",
    "        random.randint(1, maxVal),\n",
    "        random.randint(1, maxWeight)))\n",
    "    return items"
   ]
  },
  {
   "cell_type": "code",
   "execution_count": 19,
   "metadata": {},
   "outputs": [],
   "source": [
    "def bigTest(numItems):\n",
    "    items = buildManyItems(numItems, 10, 10)\n",
    "    val, taken = maxVal(items, 40)\n",
    "    print('Items Taken')\n",
    "    for item in taken:\n",
    "        print(item)\n",
    "        print('Total value of items taken =', val)"
   ]
  },
  {
   "cell_type": "code",
   "execution_count": 28,
   "metadata": {},
   "outputs": [
    {
     "name": "stdout",
     "output_type": "stream",
     "text": [
      "Items Taken\n",
      "<13, 10.0, 2.0>\n",
      "Total value of items taken = 68.0\n",
      "<10, 8.0, 9.0>\n",
      "Total value of items taken = 68.0\n",
      "<9, 4.0, 7.0>\n",
      "Total value of items taken = 68.0\n",
      "<8, 6.0, 3.0>\n",
      "Total value of items taken = 68.0\n",
      "<7, 1.0, 1.0>\n",
      "Total value of items taken = 68.0\n",
      "<6, 9.0, 4.0>\n",
      "Total value of items taken = 68.0\n",
      "<5, 9.0, 2.0>\n",
      "Total value of items taken = 68.0\n",
      "<3, 10.0, 3.0>\n",
      "Total value of items taken = 68.0\n",
      "<2, 6.0, 7.0>\n",
      "Total value of items taken = 68.0\n",
      "<1, 5.0, 1.0>\n",
      "Total value of items taken = 68.0\n"
     ]
    }
   ],
   "source": [
    "bigTest(14)"
   ]
  },
  {
   "cell_type": "code",
   "execution_count": 29,
   "metadata": {},
   "outputs": [],
   "source": [
    "def fastMaxVal(toConsider, avail, memo = {}):\n",
    "    \"\"\"Assumes toConsider a list of items, avail a weight\n",
    "    memo used only by recursive calls\n",
    "    Returns a tuple of the total weight of a solution to the\n",
    "    0/1 knapsack problem and the items of that solution\"\"\"\n",
    "    if (len(toConsider), avail) in memo:\n",
    "        result = memo[(len(toConsider), avail)]\n",
    "    elif toConsider == [] or avail == 0:\n",
    "        result = (0, ())\n",
    "    elif toConsider[0].getWeight() > avail:\n",
    "        #Explore right branch only\n",
    "        result = fastMaxVal(toConsider[1:], avail, memo)\n",
    "    else:\n",
    "        nextItem = toConsider[0]\n",
    "        #Explore left branch\n",
    "        withVal, withToTake =\\\n",
    "        fastMaxVal(toConsider[1:],\n",
    "        avail - nextItem.getWeight(), memo)\n",
    "        withVal += nextItem.getValue()\n",
    "        #Explore right branch\n",
    "        withoutVal, withoutToTake = fastMaxVal(toConsider[1:], avail, memo)\n",
    "        #Choose better branch\n",
    "        if withVal > withoutVal:\n",
    "            result = (withVal, withToTake + (nextItem,))\n",
    "        else:\n",
    "            result = (withoutVal, withoutToTake)\n",
    "        memo[(len(toConsider), avail)] = result\n",
    "    return result"
   ]
  },
  {
   "cell_type": "code",
   "execution_count": 30,
   "metadata": {},
   "outputs": [
    {
     "data": {
      "text/plain": [
       "(101.0,\n",
       " (<__main__.Item at 0x1d68d3976c8>,\n",
       "  <__main__.Item at 0x1d68d3975c8>,\n",
       "  <__main__.Item at 0x1d68d397348>,\n",
       "  <__main__.Item at 0x1d68d3972c8>,\n",
       "  <__main__.Item at 0x1d68d176f08>,\n",
       "  <__main__.Item at 0x1d68d176b08>,\n",
       "  <__main__.Item at 0x1d68d179f88>,\n",
       "  <__main__.Item at 0x1d68d179f48>,\n",
       "  <__main__.Item at 0x1d68d179ec8>,\n",
       "  <__main__.Item at 0x1d68d179c08>,\n",
       "  <__main__.Item at 0x1d68d179bc8>,\n",
       "  <__main__.Item at 0x1d68d171d08>,\n",
       "  <__main__.Item at 0x1d68d171948>))"
      ]
     },
     "execution_count": 30,
     "metadata": {},
     "output_type": "execute_result"
    }
   ],
   "source": [
    "numItems=50\n",
    "items = buildManyItems(numItems, 10, 10)\n",
    "fastMaxVal(items, 40)"
   ]
  }
 ],
 "metadata": {
  "kernelspec": {
   "display_name": "Python 3",
   "language": "python",
   "name": "python3"
  },
  "language_info": {
   "codemirror_mode": {
    "name": "ipython",
    "version": 3
   },
   "file_extension": ".py",
   "mimetype": "text/x-python",
   "name": "python",
   "nbconvert_exporter": "python",
   "pygments_lexer": "ipython3",
   "version": "3.7.6"
  }
 },
 "nbformat": 4,
 "nbformat_minor": 4
}
