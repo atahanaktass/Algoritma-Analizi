{
 "cells": [
  {
   "cell_type": "code",
   "execution_count": 1,
   "metadata": {},
   "outputs": [
    {
     "data": {
      "text/plain": [
       "[3, -5, 0, -1, -3, 4, -1, 3, -1, -3]"
      ]
     },
     "execution_count": 1,
     "metadata": {},
     "output_type": "execute_result"
    }
   ],
   "source": [
    "import random\n",
    "def get_n_random_numbers(n=10,min_=-5,max_=5):\n",
    "    numbers=[]\n",
    "    for i in range(n):\n",
    "        numbers.append(random.randint(min_,max_))\n",
    "    return numbers\n",
    "get_n_random_numbers()"
   ]
  },
  {
   "cell_type": "code",
   "execution_count": 75,
   "metadata": {},
   "outputs": [],
   "source": [
    "def my_linear_search(my_list,item_search):\n",
    "    found=(-1,-1)\n",
    "    n=len(my_list)\n",
    "    for indis in range(n):\n",
    "        if my_list[indis]==item_search:\n",
    "            found=(my_list[indis],indis)\n",
    "            break\n",
    "            \n",
    "    return found"
   ]
  },
  {
   "cell_type": "code",
   "execution_count": 78,
   "metadata": {},
   "outputs": [],
   "source": [
    "def my_experimental_study_linear(iterNum=50):\n",
    "    \n",
    "    cost=[]\n",
    "    x_low=-100\n",
    "    x_high=100\n",
    "    array_size=40\n",
    "    print(\"array size : \",array_size)\n",
    "    for iter in range(iterNum):\n",
    "        my_list=get_n_random_numbers(array_size,x_low,x_high)\n",
    "        my_search_items=get_n_random_numbers(1,x_low,x_high)\n",
    "        my_search_items=my_search_items[0]\n",
    "    \n",
    "        result=my_linear_search(my_list,my_search_items)\n",
    "        if(result[1]==-1):\n",
    "            cost.append(array_size)\n",
    "        else:\n",
    "            cost.append(result[1])\n",
    "        print(result) \n",
    "    \n",
    "    return cost"
   ]
  },
  {
   "cell_type": "code",
   "execution_count": 38,
   "metadata": {},
   "outputs": [
    {
     "name": "stdout",
     "output_type": "stream",
     "text": [
      "array size :  40\n",
      "(-1, -1)\n",
      "(-8, 11)\n",
      "(-1, -1)\n",
      "(-1, -1)\n",
      "(-42, 28)\n",
      "(-61, 20)\n",
      "(-1, -1)\n",
      "(-1, -1)\n",
      "(-1, -1)\n",
      "(-1, -1)\n",
      "(63, 16)\n",
      "(-1, -1)\n",
      "(-1, -1)\n",
      "(-1, -1)\n",
      "(-1, -1)\n",
      "(-34, 38)\n",
      "(-1, -1)\n",
      "(-1, -1)\n",
      "(-1, -1)\n",
      "(-1, -1)\n",
      "(-1, -1)\n",
      "(-1, -1)\n",
      "(-1, -1)\n",
      "(-1, -1)\n",
      "(-1, -1)\n",
      "(-95, 5)\n",
      "(-44, 30)\n",
      "(-1, -1)\n",
      "(-1, -1)\n",
      "(-1, -1)\n",
      "(-1, -1)\n",
      "(-1, -1)\n",
      "(-1, -1)\n",
      "(-1, -1)\n",
      "(-1, -1)\n",
      "(-1, -1)\n",
      "(-3, 27)\n",
      "(-1, -1)\n",
      "(-1, -1)\n",
      "(-1, -1)\n",
      "(-1, -1)\n",
      "(-1, -1)\n",
      "(-1, -1)\n",
      "(-59, 21)\n",
      "(23, 10)\n",
      "(-1, -1)\n",
      "(-1, -1)\n",
      "(-1, -1)\n",
      "(-1, -1)\n",
      "(-1, -1)\n"
     ]
    }
   ],
   "source": [
    "c_s=my_experimental_study() #yaptıgım işlem ne random olarak bir dizi oluştur, dizide bir tane search tanımla.\n",
    "#linear search karmaşıklıgı n"
   ]
  },
  {
   "cell_type": "code",
   "execution_count": 37,
   "metadata": {},
   "outputs": [],
   "source": [
    "import matplotlib.pyplot as plt"
   ]
  },
  {
   "cell_type": "code",
   "execution_count": 40,
   "metadata": {},
   "outputs": [
    {
     "data": {
      "text/plain": [
       "[<matplotlib.lines.Line2D at 0x14bb0ec26c8>]"
      ]
     },
     "execution_count": 40,
     "metadata": {},
     "output_type": "execute_result"
    },
    {
     "data": {
      "image/png": "[encoded data removed]",
      "text/plain": [
       "<Figure size 432x288 with 1 Axes>"
      ]
     },
     "metadata": {
      "needs_background": "light"
     },
     "output_type": "display_data"
    }
   ],
   "source": [
    "c_s\n",
    "plt.plot(c_s) #bu değerlerin grafiğini istiyorum.\n",
    "#beklentimiz n/2 değerinin ortlamasını vermesi, binary searchtede logn değerini vermesidir."
   ]
  },
  {
   "cell_type": "code",
   "execution_count": 62,
   "metadata": {},
   "outputs": [],
   "source": [
    "def my_binary_search(my_list, item_search):\n",
    "    found=(-1,-1,0)\n",
    "    low = 0\n",
    "    high = len(my_list) - 1\n",
    "    s=0\n",
    "    while low <= high:\n",
    "        mid = (low + high) // 2\n",
    "        print(low,high,mid)\n",
    "        s=s+1\n",
    "        if my_list[mid] == item_search:\n",
    "            return my_list[mid],mid,s\n",
    "        elif my_list[mid] > item_search:\n",
    "            high = mid - 1\n",
    "        else:\n",
    "            low = mid + 1\n",
    "    print(s)\n",
    "    \n",
    "    \n",
    "    return found[0],found[1],s"
   ]
  },
  {
   "cell_type": "code",
   "execution_count": 42,
   "metadata": {},
   "outputs": [],
   "source": [
    "def my_bubble_sort(my_list):\n",
    "    n=len(my_list)\n",
    "    \n",
    "    for i in range(n-1,-1,-1):\n",
    "        for j in range(0,i):\n",
    "            if not(my_list[j]<my_list[j+1]):\n",
    "                \n",
    "                temp=my_list[j]\n",
    "                my_list[j]=my_list[j+1]\n",
    "                my_list[j+1]=temp\n",
    "    return my_list"
   ]
  },
  {
   "cell_type": "code",
   "execution_count": 45,
   "metadata": {},
   "outputs": [
    {
     "data": {
      "text/plain": [
       "[5, 2, -3, 2]"
      ]
     },
     "execution_count": 45,
     "metadata": {},
     "output_type": "execute_result"
    }
   ],
   "source": [
    "x_low=-10\n",
    "x_high=10\n",
    "array_size=4\n",
    "my_list=get_n_random_numbers(array_size,x_low,x_high)\n",
    "my_list"
   ]
  },
  {
   "cell_type": "code",
   "execution_count": 58,
   "metadata": {},
   "outputs": [
    {
     "data": {
      "text/plain": [
       "[-3, 2, 2, 5]"
      ]
     },
     "execution_count": 58,
     "metadata": {},
     "output_type": "execute_result"
    }
   ],
   "source": [
    "my_list=my_bubble_sort(my_list)\n",
    "my_list"
   ]
  },
  {
   "cell_type": "code",
   "execution_count": 64,
   "metadata": {},
   "outputs": [
    {
     "data": {
      "text/plain": [
       "-1"
      ]
     },
     "execution_count": 64,
     "metadata": {},
     "output_type": "execute_result"
    }
   ],
   "source": [
    "my_search_items=get_n_random_numbers(1,x_low,x_high)\n",
    "my_search_items\n",
    "my_search_items=my_search_items[0]\n",
    "my_search_items"
   ]
  },
  {
   "cell_type": "code",
   "execution_count": 65,
   "metadata": {},
   "outputs": [
    {
     "name": "stdout",
     "output_type": "stream",
     "text": [
      "0 3 1\n",
      "0 0 0\n",
      "2\n"
     ]
    },
    {
     "data": {
      "text/plain": [
       "(-1, -1, 2)"
      ]
     },
     "execution_count": 65,
     "metadata": {},
     "output_type": "execute_result"
    }
   ],
   "source": [
    "my_binary_search(my_list,my_search_items)"
   ]
  },
  {
   "cell_type": "code",
   "execution_count": 71,
   "metadata": {},
   "outputs": [],
   "source": [
    "def my_experimental_study_binary(iterNum=50):\n",
    "    \n",
    "    cost=[]\n",
    "    x_low=-100\n",
    "    x_high=100\n",
    "    array_size=40\n",
    "    print(\"array size : \",array_size)\n",
    "    for iter in range(iterNum):\n",
    "        my_list=get_n_random_numbers(array_size,x_low,x_high)\n",
    "        my_list=my_bubble_sort(my_list)\n",
    "        \n",
    "        my_search_items=get_n_random_numbers(1,x_low,x_high)\n",
    "        my_search_items=my_search_items[0]\n",
    "    \n",
    "        result=my_binary_search(my_list,my_search_items)\n",
    "        cost.append(result[2])\n",
    "          #  result=my_binary_search(my_list,my_search_items)\n",
    "          #  if(result[1]==-1):\n",
    "          #      cost.append(array_size)\n",
    "          #  else:\n",
    "          #      cost.append(result[1])\n",
    "          #  print(result) \n",
    "    \n",
    "    return cost"
   ]
  },
  {
   "cell_type": "code",
   "execution_count": 76,
   "metadata": {},
   "outputs": [
    {
     "name": "stdout",
     "output_type": "stream",
     "text": [
      "array size :  40\n",
      "0 39 19\n",
      "20 39 29\n",
      "20 28 24\n",
      "20 23 21\n",
      "0 39 19\n",
      "20 39 29\n",
      "20 28 24\n",
      "20 23 21\n",
      "20 20 20\n",
      "5\n",
      "0 39 19\n",
      "0 18 9\n",
      "10 18 14\n",
      "15 18 16\n",
      "17 18 17\n",
      "18 18 18\n",
      "6\n",
      "0 39 19\n",
      "0 18 9\n",
      "0 8 4\n",
      "0 3 1\n",
      "2 3 2\n",
      "5\n",
      "0 39 19\n",
      "20 39 29\n",
      "30 39 34\n",
      "35 39 37\n",
      "35 36 35\n",
      "5\n",
      "0 39 19\n",
      "0 18 9\n",
      "0 8 4\n",
      "5 8 6\n",
      "7 8 7\n",
      "8 8 8\n",
      "0 39 19\n",
      "0 18 9\n",
      "10 18 14\n",
      "10 13 11\n",
      "12 13 12\n",
      "5\n",
      "0 39 19\n",
      "20 39 29\n",
      "30 39 34\n",
      "30 33 31\n",
      "0 39 19\n",
      "0 18 9\n",
      "10 18 14\n",
      "15 18 16\n",
      "17 18 17\n",
      "18 18 18\n",
      "6\n",
      "0 39 19\n",
      "20 39 29\n",
      "30 39 34\n",
      "30 33 31\n",
      "30 30 30\n",
      "5\n",
      "0 39 19\n",
      "20 39 29\n",
      "20 28 24\n",
      "20 23 21\n",
      "20 20 20\n",
      "5\n",
      "0 39 19\n",
      "20 39 29\n",
      "30 39 34\n",
      "35 39 37\n",
      "38 39 38\n",
      "5\n",
      "0 39 19\n",
      "20 39 29\n",
      "30 39 34\n",
      "35 39 37\n",
      "38 39 38\n",
      "39 39 39\n",
      "6\n",
      "0 39 19\n",
      "20 39 29\n",
      "30 39 34\n",
      "35 39 37\n",
      "38 39 38\n",
      "39 39 39\n",
      "6\n",
      "0 39 19\n",
      "0 18 9\n",
      "0 8 4\n",
      "5 8 6\n",
      "5 5 5\n",
      "5\n",
      "0 39 19\n",
      "0 18 9\n",
      "0 8 4\n",
      "0 3 1\n",
      "2 3 2\n",
      "5\n",
      "0 39 19\n",
      "20 39 29\n",
      "30 39 34\n",
      "35 39 37\n",
      "38 39 38\n",
      "5\n",
      "0 39 19\n",
      "0 18 9\n",
      "10 18 14\n",
      "15 18 16\n",
      "0 39 19\n",
      "20 39 29\n",
      "30 39 34\n",
      "35 39 37\n",
      "38 39 38\n",
      "39 39 39\n",
      "6\n",
      "0 39 19\n",
      "0 18 9\n",
      "10 18 14\n",
      "15 18 16\n",
      "0 39 19\n",
      "0 18 9\n",
      "0 8 4\n",
      "5 8 6\n",
      "7 8 7\n",
      "8 8 8\n",
      "6\n",
      "0 39 19\n",
      "0 18 9\n",
      "0 8 4\n",
      "0 3 1\n",
      "2 3 2\n",
      "5\n",
      "0 39 19\n",
      "0 18 9\n",
      "0 8 4\n",
      "5 8 6\n",
      "7 8 7\n",
      "8 8 8\n",
      "6\n",
      "0 39 19\n",
      "0 18 9\n",
      "0 8 4\n",
      "5 8 6\n",
      "7 8 7\n",
      "8 8 8\n",
      "6\n",
      "0 39 19\n",
      "20 39 29\n",
      "20 28 24\n",
      "20 23 21\n",
      "22 23 22\n",
      "23 23 23\n",
      "6\n",
      "0 39 19\n",
      "0 18 9\n",
      "0 8 4\n",
      "5 8 6\n",
      "5 5 5\n",
      "5\n",
      "0 39 19\n",
      "0 18 9\n",
      "10 18 14\n",
      "15 18 16\n",
      "17 18 17\n",
      "5\n",
      "0 39 19\n",
      "20 39 29\n",
      "20 28 24\n",
      "20 23 21\n",
      "22 23 22\n",
      "23 23 23\n",
      "6\n",
      "0 39 19\n",
      "0 18 9\n",
      "0 8 4\n",
      "0 3 1\n",
      "2 3 2\n",
      "3 3 3\n",
      "6\n",
      "0 39 19\n",
      "20 39 29\n",
      "30 39 34\n",
      "30 33 31\n",
      "0 39 19\n",
      "20 39 29\n",
      "20 28 24\n",
      "25 28 26\n",
      "27 28 27\n",
      "28 28 28\n",
      "6\n",
      "0 39 19\n",
      "20 39 29\n",
      "20 28 24\n",
      "20 23 21\n",
      "20 20 20\n",
      "5\n",
      "0 39 19\n",
      "20 39 29\n",
      "20 28 24\n",
      "25 28 26\n",
      "27 28 27\n",
      "28 28 28\n",
      "6\n",
      "0 39 19\n",
      "0 18 9\n",
      "10 18 14\n",
      "15 18 16\n",
      "17 18 17\n",
      "18 18 18\n",
      "6\n",
      "0 39 19\n",
      "20 39 29\n",
      "30 39 34\n",
      "35 39 37\n",
      "38 39 38\n",
      "39 39 39\n",
      "6\n",
      "0 39 19\n",
      "20 39 29\n",
      "30 39 34\n",
      "30 33 31\n",
      "32 33 32\n",
      "33 33 33\n",
      "6\n",
      "0 39 19\n",
      "20 39 29\n",
      "30 39 34\n",
      "30 33 31\n",
      "32 33 32\n",
      "33 33 33\n",
      "6\n",
      "0 39 19\n",
      "0 18 9\n",
      "0 8 4\n",
      "0 3 1\n",
      "2 3 2\n",
      "3 3 3\n",
      "6\n",
      "0 39 19\n",
      "0 18 9\n",
      "0 8 4\n",
      "5 8 6\n",
      "7 8 7\n",
      "8 8 8\n",
      "6\n",
      "0 39 19\n",
      "20 39 29\n",
      "20 28 24\n",
      "25 28 26\n",
      "27 28 27\n",
      "28 28 28\n",
      "6\n",
      "0 39 19\n",
      "0 18 9\n",
      "0 8 4\n",
      "0 3 1\n",
      "0 0 0\n",
      "5\n",
      "0 39 19\n",
      "0 18 9\n",
      "0 8 4\n",
      "5 8 6\n",
      "7 8 7\n",
      "5\n",
      "0 39 19\n",
      "20 39 29\n",
      "20 28 24\n",
      "25 28 26\n",
      "25 25 25\n",
      "5\n",
      "0 39 19\n",
      "0 18 9\n",
      "10 18 14\n",
      "15 18 16\n",
      "17 18 17\n",
      "5\n",
      "0 39 19\n",
      "0 18 9\n",
      "0 8 4\n",
      "0 39 19\n",
      "0 18 9\n",
      "10 18 14\n",
      "15 18 16\n",
      "15 15 15\n",
      "5\n",
      "0 39 19\n",
      "0 18 9\n",
      "0 8 4\n",
      "5 8 6\n",
      "7 8 7\n",
      "8 8 8\n",
      "6\n",
      "0 39 19\n",
      "20 39 29\n",
      "30 39 34\n",
      "30 33 31\n",
      "30 30 30\n",
      "5\n",
      "0 39 19\n",
      "0 18 9\n",
      "10 18 14\n",
      "15 18 16\n",
      "17 18 17\n",
      "5\n",
      "0 39 19\n",
      "20 39 29\n",
      "30 39 34\n",
      "30 33 31\n",
      "32 33 32\n",
      "33 33 33\n",
      "6\n"
     ]
    }
   ],
   "source": [
    "c_s_b=my_experimental_study_binary()"
   ]
  },
  {
   "cell_type": "code",
   "execution_count": 79,
   "metadata": {},
   "outputs": [
    {
     "name": "stdout",
     "output_type": "stream",
     "text": [
      "array size :  40\n",
      "(-1, -1)\n",
      "(-1, -1)\n",
      "(-1, -1)\n",
      "(-94, 31)\n",
      "(-1, -1)\n",
      "(-1, -1)\n",
      "(-1, -1)\n",
      "(-1, -1)\n",
      "(-1, -1)\n",
      "(-1, -1)\n",
      "(-1, -1)\n",
      "(47, 11)\n",
      "(-1, -1)\n",
      "(-1, -1)\n",
      "(-1, -1)\n",
      "(-37, 24)\n",
      "(-1, -1)\n",
      "(-1, -1)\n",
      "(69, 17)\n",
      "(-1, -1)\n",
      "(-1, -1)\n",
      "(50, 33)\n",
      "(-1, -1)\n",
      "(-1, -1)\n",
      "(-1, -1)\n",
      "(-1, -1)\n",
      "(-1, -1)\n",
      "(-1, -1)\n",
      "(-1, -1)\n",
      "(-1, -1)\n",
      "(-1, -1)\n",
      "(-1, -1)\n",
      "(-1, -1)\n",
      "(-1, -1)\n",
      "(-16, 19)\n",
      "(-1, -1)\n",
      "(-1, -1)\n",
      "(-1, -1)\n",
      "(-1, -1)\n",
      "(-1, -1)\n",
      "(-1, -1)\n",
      "(-1, -1)\n",
      "(-1, -1)\n",
      "(-1, -1)\n",
      "(-1, -1)\n",
      "(-1, -1)\n",
      "(-72, 39)\n",
      "(-1, -1)\n",
      "(-1, -1)\n",
      "(-1, -1)\n"
     ]
    }
   ],
   "source": [
    "c_s_l=my_experimental_study_linear()"
   ]
  },
  {
   "cell_type": "code",
   "execution_count": 80,
   "metadata": {},
   "outputs": [
    {
     "data": {
      "text/plain": [
       "<function matplotlib.pyplot.show(*args, **kw)>"
      ]
     },
     "execution_count": 80,
     "metadata": {},
     "output_type": "execute_result"
    },
    {
     "data": {
      "image/png": "[encoded data removed]",
      "text/plain": [
       "<Figure size 432x288 with 2 Axes>"
      ]
     },
     "metadata": {
      "needs_background": "light"
     },
     "output_type": "display_data"
    }
   ],
   "source": [
    "plt.subplot(1,2,1), plt.plot(c_s_b)\n",
    "plt.subplot(1,2,2), plt.plot(c_s_l)\n",
    "plt.show \n",
    "#binary search oldugunda en fazla ulaştıgınız değer,en fazla maliyet,en fazla tekrar sayısı 6 oluyor."
   ]
  },
  {
   "cell_type": "code",
   "execution_count": null,
   "metadata": {},
   "outputs": [],
   "source": []
  }
 ],
 "metadata": {
  "kernelspec": {
   "display_name": "Python 3",
   "language": "python",
   "name": "python3"
  },
  "language_info": {
   "codemirror_mode": {
    "name": "ipython",
    "version": 3
   },
   "file_extension": ".py",
   "mimetype": "text/x-python",
   "name": "python",
   "nbconvert_exporter": "python",
   "pygments_lexer": "ipython3",
   "version": "3.7.6"
  }
 },
 "nbformat": 4,
 "nbformat_minor": 4
}
